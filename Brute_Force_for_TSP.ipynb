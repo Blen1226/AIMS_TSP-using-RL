{
  "nbformat": 4,
  "nbformat_minor": 0,
  "metadata": {
    "colab": {
      "provenance": []
    },
    "kernelspec": {
      "name": "python3",
      "display_name": "Python 3"
    },
    "language_info": {
      "name": "python"
    }
  },
  "cells": [
    {
      "cell_type": "code",
      "execution_count": 1,
      "metadata": {
        "colab": {
          "base_uri": "https://localhost:8080/"
        },
        "id": "d2U7dc38e21b",
        "outputId": "98578d73-36ba-46a3-9695-322871034ac5"
      },
      "outputs": [
        {
          "output_type": "stream",
          "name": "stdout",
          "text": [
            "\n",
            "Minimum distance: 14077.4\n",
            "Minimum path: (0, 1, 4, 5, 2, 3, 0)\n"
          ]
        }
      ],
      "source": [
        "import itertools\n",
        "import pandas as pd\n",
        "# Define the distance matrix for a 6-node complete graph\n",
        "distances = [\n",
        "    [-1, 3299, 4772.8, 2803, 8276.6, 6299], \n",
        "    [3299, -1, 918, 2852, 2701, 2201], \n",
        "    [4772.8, 918, -1, 1016, 3098.16, 2238.4], \n",
        "    [2803, 2852, 1016, -1, 3981, 3236],\n",
        "    [8276.6, 2701, 3098.16, 3981, -1, 2020],\n",
        "    [6299, 2201, 2238.4, 3236, 2020, -1]\n",
        "]\n",
        "n = len(distances)\n",
        "min_distance = float(\"inf\")\n",
        "min_path = None\n",
        "\n",
        "# Generate all possible permutations of node indices except for the starting node (0)\n",
        "for path in itertools.permutations(range(1, n)):\n",
        "    # Add the starting node (0) to the beginning and end of the path\n",
        "    path = (0,) + path + (0,)\n",
        "    #print(path)\n",
        "\n",
        "    # Compute the total distance of the path\n",
        "    distance = 0\n",
        "    for i in range(1, n + 1):\n",
        "        distance += distances[path[i - 1]][path[i]]\n",
        "        #print(distance)\n",
        " # Update the minimum distance and path if the current path is shorter\n",
        "    if distance < min_distance:\n",
        "        min_distance = distance\n",
        "        min_path = path\n",
        "        # Print the minimum distance and path\n",
        "print()\n",
        "print(\"Minimum distance:\", min_distance)\n",
        "print(\"Minimum path:\", min_path)"
      ]
    },
    {
      "cell_type": "code",
      "source": [],
      "metadata": {
        "id": "a-t9epehfALT"
      },
      "execution_count": null,
      "outputs": []
    }
  ]
}