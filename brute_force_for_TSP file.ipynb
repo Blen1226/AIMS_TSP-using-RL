{
  "nbformat": 4,
  "nbformat_minor": 0,
  "metadata": {
    "colab": {
      "provenance": [],
      "toc_visible": true
    },
    "kernelspec": {
      "name": "python3",
      "display_name": "Python 3"
    },
    "language_info": {
      "name": "python"
    }
  },
  "cells": [
    {
      "cell_type": "code",
      "execution_count": null,
      "metadata": {
        "colab": {
          "base_uri": "https://localhost:8080/"
        },
        "id": "cgdQe36Afbao",
        "outputId": "77be8107-9678-4765-e100-bcbfaf87d29b"
      },
      "outputs": [
        {
          "output_type": "stream",
          "name": "stdout",
          "text": [
            "Mounted at /content/gdrive\n"
          ]
        }
      ],
      "source": [
        "from google.colab import drive\n",
        "drive.mount('/content/gdrive')\n"
      ]
    },
    {
      "cell_type": "code",
      "source": [
        "import itertools\n",
        "import pandas as pd\n",
        "\n",
        "# Load the distance matrix from a CSV file\n",
        "distances_df = pd.read_csv('/content/gdrive/My Drive/Colab Notebooks/blen2.csv', index_col=0, header=None)\n",
        "# Convert the DataFrame to a 2D list\n",
        "distances = distances_df.values.tolist()\n",
        "\n",
        "n = len(distances)\n",
        "min_distance = float(\"inf\")\n",
        "min_path = None\n",
        "\n",
        "# Generate all possible permutations of node indices except for the starting node (0)\n",
        "for path in itertools.permutations(range(1, n)):\n",
        "    # Add the starting node (0) to the beginning and end of the path\n",
        "    path = (0,) + path + (0,)\n",
        "    #print(path)\n",
        "\n",
        "    # Compute the total distance of the path\n",
        "    distance = 0\n",
        "    for i in range(1, n + 1):\n",
        "        distance += distances[path[i - 1]][path[i]]\n",
        "    # Update the minimum distance and path if the current path is shorter\n",
        "    if distance < min_distance:\n",
        "        min_distance = distance\n",
        "        min_path = path\n",
        "\n",
        "# Print the minimum distance and path\n",
        "print()\n",
        "print(\"Minimum distance:\", min_distance)\n",
        "print(\"Minimum path:\", min_path)\n"
      ],
      "metadata": {
        "colab": {
          "base_uri": "https://localhost:8080/"
        },
        "id": "H0OCzy2XfuSi",
        "outputId": "4586d3a4-5282-4859-d884-606803ff2ebb"
      },
      "execution_count": null,
      "outputs": [
        {
          "output_type": "stream",
          "name": "stdout",
          "text": [
            "\n",
            "Minimum distance: 14077.4\n",
            "Minimum path: (0, 1, 4, 5, 2, 3, 0)\n"
          ]
        }
      ]
    },
    {
      "cell_type": "code",
      "source": [],
      "metadata": {
        "id": "IKZZ7SWBgCSh"
      },
      "execution_count": null,
      "outputs": []
    }
  ]
}