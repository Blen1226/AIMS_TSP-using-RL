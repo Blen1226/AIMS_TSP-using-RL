{
  "nbformat": 4,
  "nbformat_minor": 0,
  "metadata": {
    "colab": {
      "provenance": []
    },
    "kernelspec": {
      "name": "python3",
      "display_name": "Python 3"
    },
    "language_info": {
      "name": "python"
    }
  },
  "cells": [
    {
      "cell_type": "code",
      "execution_count": 2,
      "metadata": {
        "colab": {
          "base_uri": "https://localhost:8080/"
        },
        "id": "BzKCrcraeaRc",
        "outputId": "8b1f352b-07e2-4f4a-90df-cc369b215793"
      },
      "outputs": [
        {
          "output_type": "stream",
          "name": "stdout",
          "text": [
            "Visited vertices: [0, 3, 2, 1, 5, 4]\n",
            "Tour length: 17234.6\n"
          ]
        }
      ],
      "source": [
        "import numpy as np\n",
        "import sys\n",
        "\n",
        "def nearest_neighbor(graph):\n",
        "    # Start with the first vertex in the graph\n",
        "    current_vertex = 0\n",
        "    # Create a list to hold the visited vertices\n",
        "    visited_vertices = [current_vertex]\n",
        "    # Create a list to hold the unvisited vertices\n",
        "    unvisited_vertices = list(range(1, len(graph)))\n",
        "    # Set the initial tour length to 0\n",
        "    tour_length = 0\n",
        "\n",
        "    # While there are unvisited vertices left\n",
        "    while unvisited_vertices:\n",
        "        # Find the nearest unvisited vertex\n",
        "        nearest_neighbor = min(unvisited_vertices, key=lambda x: graph[current_vertex][x])\n",
        "        # Add the nearest unvisited vertex to the visited vertices list\n",
        "        visited_vertices.append(nearest_neighbor)\n",
        "        # Remove the nearest unvisited vertex from the unvisited vertices list\n",
        "        unvisited_vertices.remove(nearest_neighbor)\n",
        "        # Add the distance from the current vertex to the nearest unvisited vertex to the tour length\n",
        "        tour_length += graph[current_vertex][nearest_neighbor]\n",
        "        # Set the current vertex to be the nearest unvisited vertex\n",
        "        current_vertex = nearest_neighbor\n",
        "\n",
        "    # Add the distance from the last visited vertex back to the first visited vertex to complete the cycle\n",
        "    tour_length += graph[visited_vertices[-1]][visited_vertices[0]]\n",
        "\n",
        "    # Return the visited vertices in the order they were visited and the length of the tour\n",
        "    return visited_vertices, tour_length\n",
        "\n",
        "# Test the algorithm on a small graph\n",
        "graph = np.array([[-1, 3299, 4772.8, 2803, 8276.6, 6299], \n",
        "    [3299, -1, 918, 2852, 2701, 2201], \n",
        "    [4772.8, 918, -1, 1016, 3098.16, 2238.4], \n",
        "    [2803, 2852, 1016, -1, 3981, 3236],\n",
        "    [8276.6, 2701, 3098.16, 3981, -1, 2020],\n",
        "    [6299, 2201, 2238.4, 3236, 2020, -1]\n",
        "])\n",
        "visited_vertices, tour_length = nearest_neighbor(graph)\n",
        "print(\"Visited vertices:\", visited_vertices)\n",
        "print(\"Tour length:\", tour_length)\n"
      ]
    },
    {
      "cell_type": "code",
      "source": [],
      "metadata": {
        "id": "V6tYB6MaenEX"
      },
      "execution_count": null,
      "outputs": []
    }
  ]
}